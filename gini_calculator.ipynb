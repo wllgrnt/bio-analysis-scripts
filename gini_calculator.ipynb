{
 "cells": [
  {
   "cell_type": "markdown",
   "metadata": {},
   "source": [
    "# gini_calculator.ipynb\n",
    "\n",
    "Pulls in some histograms - one trustworthy set from Fiji, one deeply cursed set from CellProfiler.\n",
    "\n",
    "Approximates the Gini coefficient for each set of histograms. Looks for a difference."
   ]
  },
  {
   "cell_type": "code",
   "execution_count": null,
   "metadata": {},
   "outputs": [],
   "source": [
    "import matplotlib.pyplot as plt\n",
    "import numpy as np\n",
    "import pandas as pd"
   ]
  },
  {
   "cell_type": "code",
   "execution_count": null,
   "metadata": {},
   "outputs": [],
   "source": [
    "fiji_df = pd.read_excel('input_folder/gini_fiji.xlsx', sheet_name='D02_histo')"
   ]
  },
  {
   "cell_type": "code",
   "execution_count": null,
   "metadata": {},
   "outputs": [],
   "source": [
    "fiji_df = fiji_df.dropna()"
   ]
  },
  {
   "cell_type": "code",
   "execution_count": null,
   "metadata": {},
   "outputs": [],
   "source": [
    "fig, ax = plt.subplots()\n",
    "for col in range(1, 30):\n",
    "    ax.plot(fiji_df['bin'], fiji_df[col].cumsum()/ fiji_df[col].sum(), label=col)\n",
    "ax.set_xlim(0, 10)"
   ]
  },
  {
   "cell_type": "code",
   "execution_count": null,
   "metadata": {},
   "outputs": [],
   "source": [
    "fiji_df[1]"
   ]
  },
  {
   "cell_type": "code",
   "execution_count": null,
   "metadata": {},
   "outputs": [],
   "source": [
    "fiji_df['bin']"
   ]
  },
  {
   "cell_type": "code",
   "execution_count": null,
   "metadata": {},
   "outputs": [],
   "source": [
    "import pandas as pd\n",
    "import numpy as np\n",
    "\n",
    "def calculate_gini(df):\n",
    "    # Sorting the DataFrame by bin number\n",
    "    df_sorted = df.sort_values('bin_number')\n",
    "    \n",
    "    # Calculating cumulative population and cumulative wealth\n",
    "    df_sorted['cumulative_population'] = df_sorted['frequency'].cumsum()\n",
    "    df_sorted['cumulative_wealth'] = df_sorted['bin_number'] * df_sorted['frequency']\n",
    "    df_sorted['cumulative_wealth'] = df_sorted['cumulative_wealth'].cumsum()\n",
    "    \n",
    "    # Normalizing the cumulative values to go from 0 to 1\n",
    "    total_population = df_sorted['frequency'].sum()\n",
    "    total_wealth = df_sorted['bin_number'].dot(df_sorted['frequency'])\n",
    "    df_sorted['cumulative_population'] /= total_population\n",
    "    df_sorted['cumulative_wealth'] /= total_wealth\n",
    "\n",
    "    # Adding (0,0) as the starting point for Lorenz curve\n",
    "    lorenz_points = pd.concat([pd.DataFrame({'cumulative_population': [0], 'cumulative_wealth': [0]}),\n",
    "                               df_sorted[['cumulative_population', 'cumulative_wealth']]])\n",
    "\n",
    "    # Calculating the area under the Lorenz curve using the trapezoidal rule\n",
    "    area_under_lorenz = np.trapz(lorenz_points['cumulative_wealth'], lorenz_points['cumulative_population'])\n",
    "\n",
    "    # Gini coefficient is 1 - 2 * area under the Lorenz curve\n",
    "    gini_coefficient = 1 - 2 * area_under_lorenz\n",
    "    return gini_coefficient\n",
    "\n",
    "# Example DataFrame\n",
    "data = {\n",
    "    'bin_number': [1, 2, 3, 4, 5],  # Example bin numbers\n",
    "    'frequency': [10, 20, 30, 25, 15]  # Example frequencies\n",
    "}\n",
    "df = pd.DataFrame(data)\n",
    "\n",
    "# Calculate Gini coefficient\n",
    "gini_coefficient = calculate_gini(df)\n",
    "print(\"Gini Coefficient:\", gini_coefficient)"
   ]
  },
  {
   "cell_type": "code",
   "execution_count": null,
   "metadata": {},
   "outputs": [],
   "source": [
    "fiji_df['frequency'] = fiji_df[1]\n",
    "fiji_df['bin_number'] = fiji_df['bin']"
   ]
  },
  {
   "cell_type": "code",
   "execution_count": null,
   "metadata": {},
   "outputs": [],
   "source": [
    "ginis = []\n",
    "for col in range(1, 30):\n",
    "    fiji_df['frequency'] = fiji_df[col]\n",
    "    print(\"Gini Coefficient:\", calculate_gini(fiji_df))\n",
    "    ginis.append(calculate_gini(fiji_df))"
   ]
  },
  {
   "cell_type": "code",
   "execution_count": null,
   "metadata": {},
   "outputs": [],
   "source": [
    "plt.scatter(range(len(ginis)), ginis)"
   ]
  },
  {
   "cell_type": "code",
   "execution_count": null,
   "metadata": {},
   "outputs": [],
   "source": [
    "expand_nuclei_df = pd.read_csv('input_folder/gini_expand_nuclei.csv')"
   ]
  },
  {
   "cell_type": "code",
   "execution_count": null,
   "metadata": {},
   "outputs": [],
   "source": [
    "expand_nuclei_df"
   ]
  },
  {
   "cell_type": "code",
   "execution_count": null,
   "metadata": {},
   "outputs": [],
   "source": [
    "for _, row in expand_nuclei_df.iterrows():\n",
    "    bins = list(range(1,51))\n",
    "    vals = [row[f'Histogram_50BinsHistBin{col}_MIRO160mer'] for col in range(50)]\n",
    "    hist_df = pd.DataFrame({'bin_number': bins, 'frequency': vals})\n",
    "    print(calculate_gini(hist_df))"
   ]
  },
  {
   "cell_type": "code",
   "execution_count": null,
   "metadata": {},
   "outputs": [],
   "source": [
    "filtered = expand_nuclei_df[expand_nuclei_df['FileName_Hoechst'].str.startswith('Plate000_WellE02_Channel405,561,488,640_Seq0003-MaxIP_XY1_405.tif')]"
   ]
  },
  {
   "cell_type": "code",
   "execution_count": null,
   "metadata": {},
   "outputs": [],
   "source": [
    "filtered"
   ]
  },
  {
   "cell_type": "code",
   "execution_count": null,
   "metadata": {},
   "outputs": [],
   "source": [
    "ginis = []\n",
    "hists = []\n",
    "for _, row in filtered.iterrows():\n",
    "    bins = list(range(1,51))\n",
    "    vals = [row[f'Histogram_50BinsHistBin{col}_MIRO160mer'] for col in range(50)]\n",
    "    hist_df = pd.DataFrame({'bin_number': bins, 'frequency': vals})\n",
    "    hists.append(hist_df)\n",
    "    ginis.append(calculate_gini(hist_df))"
   ]
  },
  {
   "cell_type": "code",
   "execution_count": null,
   "metadata": {},
   "outputs": [],
   "source": [
    "plt.scatter(range(len(ginis)), ginis)"
   ]
  },
  {
   "cell_type": "code",
   "execution_count": null,
   "metadata": {},
   "outputs": [],
   "source": [
    "import seaborn as sns\n",
    "\n",
    "sns.distplot(ginis)"
   ]
  },
  {
   "cell_type": "code",
   "execution_count": null,
   "metadata": {},
   "outputs": [],
   "source": [
    "import seaborn as sns\n",
    "\n",
    "sns.distplot(ginis)"
   ]
  },
  {
   "cell_type": "code",
   "execution_count": null,
   "metadata": {},
   "outputs": [],
   "source": []
  },
  {
   "cell_type": "code",
   "execution_count": null,
   "metadata": {},
   "outputs": [],
   "source": []
  }
 ],
 "metadata": {
  "kernelspec": {
   "display_name": "py3_11",
   "language": "python",
   "name": "python3"
  },
  "language_info": {
   "codemirror_mode": {
    "name": "ipython",
    "version": 3
   },
   "file_extension": ".py",
   "mimetype": "text/x-python",
   "name": "python",
   "nbconvert_exporter": "python",
   "pygments_lexer": "ipython3",
   "version": "3.11.5"
  }
 },
 "nbformat": 4,
 "nbformat_minor": 2
}
